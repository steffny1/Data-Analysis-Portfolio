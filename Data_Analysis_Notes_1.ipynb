{
  "nbformat": 4,
  "nbformat_minor": 0,
  "metadata": {
    "colab": {
      "provenance": [],
      "authorship_tag": "ABX9TyM+06rXQ1GU60bhI4QCUAJT",
      "include_colab_link": true
    },
    "kernelspec": {
      "name": "python3",
      "display_name": "Python 3"
    },
    "language_info": {
      "name": "python"
    }
  },
  "cells": [
    {
      "cell_type": "markdown",
      "metadata": {
        "id": "view-in-github",
        "colab_type": "text"
      },
      "source": [
        "<a href=\"https://colab.research.google.com/github/steffny1/Data-Analysis-Portfolio/blob/main/Data_Analysis_Notes_1.ipynb\" target=\"_parent\"><img src=\"https://colab.research.google.com/assets/colab-badge.svg\" alt=\"Open In Colab\"/></a>"
      ]
    },
    {
      "cell_type": "markdown",
      "source": [
        "Data analysis is the act of turning raw, messy data into useful insights by cleaning the data up, transforming it, manipulating it, and inspecting it."
      ],
      "metadata": {
        "id": "4esxry5ZSVNu"
      }
    },
    {
      "cell_type": "code",
      "execution_count": null,
      "metadata": {
        "id": "LtuJd0SkSDf6"
      },
      "outputs": [],
      "source": [
        "#picking a desired conclusion is not part of data analysis per free code camp."
      ]
    },
    {
      "cell_type": "code",
      "source": [],
      "metadata": {
        "id": "pmTGOlWLjZfc"
      },
      "execution_count": null,
      "outputs": []
    },
    {
      "cell_type": "code",
      "source": [],
      "metadata": {
        "id": "u63nREKRSXVU"
      },
      "execution_count": null,
      "outputs": []
    }
  ]
}